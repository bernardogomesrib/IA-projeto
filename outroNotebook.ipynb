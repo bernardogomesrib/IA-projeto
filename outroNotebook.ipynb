{
 "cells": [
  {
   "cell_type": "code",
   "execution_count": 2,
   "metadata": {},
   "outputs": [
    {
     "name": "stderr",
     "output_type": "stream",
     "text": [
      "C:\\Users\\berna\\AppData\\Local\\Packages\\PythonSoftwareFoundation.Python.3.11_qbz5n2kfra8p0\\LocalCache\\local-packages\\Python311\\site-packages\\tqdm\\auto.py:21: TqdmWarning: IProgress not found. Please update jupyter and ipywidgets. See https://ipywidgets.readthedocs.io/en/stable/user_install.html\n",
      "  from .autonotebook import tqdm as notebook_tqdm\n"
     ]
    },
    {
     "name": "stdout",
     "output_type": "stream",
     "text": [
      "O conteúdo das bases de dados é igual? False\n",
      "tamanho da database1=  4424\n",
      "tamanho da database2=  4424\n",
      "tamanho da database3=  4424\n",
      "tamanho da database4=  4424\n"
     ]
    }
   ],
   "source": [
    "import numpy as np\n",
    "import seaborn as sns\n",
    "import pandas as pd\n",
    "import matplotlib.pyplot as plt\n",
    "from sklearn.model_selection import train_test_split;\n",
    "from sklearn.linear_model import LinearRegression;\n",
    "from sklearn.metrics import mean_squared_error;\n",
    "from ydata_profiling import ProfileReport\n",
    "import plotly.graph_objects as go;\n",
    "from sklearn.ensemble import RandomForestClassifier\n",
    "\n",
    "link  = 'https://raw.githubusercontent.com/bernardogomesrib/IA-projeto/main/archive/Student_Dropout_rate.csv'; #pode usar normalmente\n",
    "link2 = 'https://raw.githubusercontent.com/bernardogomesrib/IA-projeto/main/archive/data.csv'; #pode usar normalmente\n",
    "link3 = 'https://raw.githubusercontent.com/bernardogomesrib/IA-projeto/main/archive/student_data.csv'; #trocar o nome da coluna Output por Target\n",
    "link4 = 'https://raw.githubusercontent.com/bernardogomesrib/IA-projeto/main/archive/dataset1.csv' #não tem separador\n",
    "dicionario ={\"Graduate\":0,\"Dropout\":1,\"Enrolled\":2}#dicionario para transformar as strings em números\n",
    "dataset1 = pd.read_csv(link,sep=\";\");\n",
    "dataset2 = pd.read_csv(link2,sep=\";\");\n",
    "dataset3 = pd.read_csv(link3,sep=\";\");\n",
    "dataset4 = pd.read_csv(link4);\n",
    "\n",
    "dataset3.rename(columns={'Output': 'Target'}, inplace=True)\n",
    "\n",
    "# Set index and column labels to match for dataset1 and dataset2\n",
    "dataset1 = dataset1.reindex(index=dataset2.index, columns=dataset2.columns)\n",
    "dataset3 = dataset3.reindex(index=dataset2.index, columns=dataset2.columns)\n",
    "dataset4 = dataset4.reindex(index=dataset2.index, columns=dataset2.columns)\n",
    "\n",
    "\n",
    "# Comparar conteúdo (valores das colunas)\n",
    "def comparar_conteudo(*dataframes):\n",
    "    iguais = all(dataset1.equals(dataset) for dataset in dataframes[1:])\n",
    "    return iguais\n",
    "\n",
    "conteudo_igual = comparar_conteudo(dataset1, dataset2, dataset3, dataset4)\n",
    "print(f\"O conteúdo das bases de dados é igual? {conteudo_igual}\")\n",
    "\n",
    "# Identificar diferenças específicas\n",
    "def identificar_diferencas(dataset1, dataset2):\n",
    "    diferencas = dataset1.compare(dataset2)\n",
    "    return diferencas\n",
    "\n",
    "diferencas_12 = identificar_diferencas(dataset1, dataset2)\n",
    "\n",
    "\n",
    "print(\"tamanho da database1= \",len(dataset1))\n",
    "print(\"tamanho da database2= \",len(dataset2))\n",
    "print(\"tamanho da database3= \",len(dataset3))\n",
    "print(\"tamanho da database4= \",len(dataset4))\n",
    "# Identificar diferenças específicas\n",
    "def identificar_diferencas(dataset1, dataset2):\n",
    "    diferencas = dataset1.compare(dataset2)\n",
    "    return diferencas\n",
    "\n",
    "diferencas_12 = identificar_diferencas(dataset1, dataset2)\n",
    "diferencas_13 = identificar_diferencas(dataset1, dataset3)\n",
    "diferencas_14 = identificar_diferencas(dataset1, dataset4)\n",
    "diferencas_23 = identificar_diferencas(dataset2, dataset3)\n",
    "diferencas_24 = identificar_diferencas(dataset2, dataset4)\n",
    "diferencas_34 = identificar_diferencas(dataset3, dataset4)"
   ]
  },
  {
   "cell_type": "code",
   "execution_count": 3,
   "metadata": {},
   "outputs": [
    {
     "name": "stdout",
     "output_type": "stream",
     "text": [
      "Diferenças entre database1 e database2:\n",
      "Empty DataFrame\n",
      "Columns: []\n",
      "Index: []\n"
     ]
    }
   ],
   "source": [
    "\n",
    "\n",
    "print(\"Diferenças entre database1 e database2:\")\n",
    "print(diferencas_12)\n",
    "\n"
   ]
  },
  {
   "cell_type": "code",
   "execution_count": 4,
   "metadata": {},
   "outputs": [
    {
     "name": "stdout",
     "output_type": "stream",
     "text": [
      "Diferenças entre database3 e database4:\n",
      "Empty DataFrame\n",
      "Columns: []\n",
      "Index: []\n"
     ]
    }
   ],
   "source": [
    "print(\"Diferenças entre database3 e database4:\")\n",
    "print(diferencas_34)\n"
   ]
  },
  {
   "cell_type": "code",
   "execution_count": 5,
   "metadata": {},
   "outputs": [
    {
     "name": "stdout",
     "output_type": "stream",
     "text": [
      "Diferenças entre database1 e database3:\n",
      "     Application mode       Course       Daytime/evening attendance\\t        \\\n",
      "                 self other   self other                         self other   \n",
      "0                17.0   8.0    171     2                            1   NaN   \n",
      "1                15.0   6.0   9254    11                            1   NaN   \n",
      "2                 NaN   NaN   9070     5                            1   NaN   \n",
      "3                17.0   8.0   9773    15                            1   NaN   \n",
      "4                39.0  12.0   8014     3                            0   NaN   \n",
      "...               ...   ...    ...   ...                          ...   ...   \n",
      "4419              NaN   NaN   9773    15                            1   NaN   \n",
      "4420              NaN   NaN   9773    15                            1   NaN   \n",
      "4421              NaN   NaN   9500    12                            1   NaN   \n",
      "4422              NaN   NaN   9147     9                            1   NaN   \n",
      "4423             10.0   5.0   9773    15                            1   NaN   \n",
      "\n",
      "     Previous qualification       Previous qualification (grade)        ...  \\\n",
      "                       self other                           self other  ...   \n",
      "0                       NaN   NaN                          122.0   NaN  ...   \n",
      "1                       NaN   NaN                          160.0   NaN  ...   \n",
      "2                       NaN   NaN                          122.0   NaN  ...   \n",
      "3                       NaN   NaN                          122.0   NaN  ...   \n",
      "4                       NaN   NaN                          100.0   NaN  ...   \n",
      "...                     ...   ...                            ...   ...  ...   \n",
      "4419                    NaN   NaN                          125.0   NaN  ...   \n",
      "4420                    NaN   NaN                          120.0   NaN  ...   \n",
      "4421                    NaN   NaN                          154.0   NaN  ...   \n",
      "4422                    NaN   NaN                          180.0   NaN  ...   \n",
      "4423                    NaN   NaN                          152.0   NaN  ...   \n",
      "\n",
      "     Mother's qualification       Father's qualification        \\\n",
      "                       self other                   self other   \n",
      "0                      19.0  13.0                   12.0  10.0   \n",
      "1                       NaN   NaN                    NaN   NaN   \n",
      "2                      37.0  22.0                   37.0  27.0   \n",
      "3                      38.0  23.0                   37.0  27.0   \n",
      "4                      37.0  22.0                   38.0  28.0   \n",
      "...                     ...   ...                    ...   ...   \n",
      "4419                    NaN   NaN                    NaN   NaN   \n",
      "4420                    NaN   NaN                    NaN   NaN   \n",
      "4421                   37.0  22.0                   37.0  27.0   \n",
      "4422                   37.0  22.0                   37.0  27.0   \n",
      "4423                   38.0  23.0                   37.0  27.0   \n",
      "\n",
      "     Mother's occupation       Father's occupation       Admission grade        \n",
      "                    self other                self other            self other  \n",
      "0                      5     6                   9    10           127.3   NaN  \n",
      "1                      3     4                   3     4           142.5   NaN  \n",
      "2                      9    10                   9    10           124.8   NaN  \n",
      "3                      5     6                   3     4           119.6   NaN  \n",
      "4                      9    10                   9    10           141.5   NaN  \n",
      "...                  ...   ...                 ...   ...             ...   ...  \n",
      "4419                   5     6                   4     5           122.2   NaN  \n",
      "4420                   9    10                   9    10           119.0   NaN  \n",
      "4421                   9    10                   9    10           149.5   NaN  \n",
      "4422                   7     8                   4     5           153.8   NaN  \n",
      "4423                   5     6                   9    10           152.0   NaN  \n",
      "\n",
      "[4424 rows x 22 columns]\n"
     ]
    }
   ],
   "source": [
    "print(\"Diferenças entre database1 e database3:\")\n",
    "print(diferencas_13)"
   ]
  },
  {
   "cell_type": "code",
   "execution_count": 6,
   "metadata": {},
   "outputs": [
    {
     "name": "stdout",
     "output_type": "stream",
     "text": [
      "Diferenças entre database1 e database4:\n",
      "     Application mode       Course       Daytime/evening attendance\\t        \\\n",
      "                 self other   self other                         self other   \n",
      "0                17.0   8.0    171     2                            1   NaN   \n",
      "1                15.0   6.0   9254    11                            1   NaN   \n",
      "2                 NaN   NaN   9070     5                            1   NaN   \n",
      "3                17.0   8.0   9773    15                            1   NaN   \n",
      "4                39.0  12.0   8014     3                            0   NaN   \n",
      "...               ...   ...    ...   ...                          ...   ...   \n",
      "4419              NaN   NaN   9773    15                            1   NaN   \n",
      "4420              NaN   NaN   9773    15                            1   NaN   \n",
      "4421              NaN   NaN   9500    12                            1   NaN   \n",
      "4422              NaN   NaN   9147     9                            1   NaN   \n",
      "4423             10.0   5.0   9773    15                            1   NaN   \n",
      "\n",
      "     Previous qualification       Previous qualification (grade)        ...  \\\n",
      "                       self other                           self other  ...   \n",
      "0                       NaN   NaN                          122.0   NaN  ...   \n",
      "1                       NaN   NaN                          160.0   NaN  ...   \n",
      "2                       NaN   NaN                          122.0   NaN  ...   \n",
      "3                       NaN   NaN                          122.0   NaN  ...   \n",
      "4                       NaN   NaN                          100.0   NaN  ...   \n",
      "...                     ...   ...                            ...   ...  ...   \n",
      "4419                    NaN   NaN                          125.0   NaN  ...   \n",
      "4420                    NaN   NaN                          120.0   NaN  ...   \n",
      "4421                    NaN   NaN                          154.0   NaN  ...   \n",
      "4422                    NaN   NaN                          180.0   NaN  ...   \n",
      "4423                    NaN   NaN                          152.0   NaN  ...   \n",
      "\n",
      "     Mother's qualification       Father's qualification        \\\n",
      "                       self other                   self other   \n",
      "0                      19.0  13.0                   12.0  10.0   \n",
      "1                       NaN   NaN                    NaN   NaN   \n",
      "2                      37.0  22.0                   37.0  27.0   \n",
      "3                      38.0  23.0                   37.0  27.0   \n",
      "4                      37.0  22.0                   38.0  28.0   \n",
      "...                     ...   ...                    ...   ...   \n",
      "4419                    NaN   NaN                    NaN   NaN   \n",
      "4420                    NaN   NaN                    NaN   NaN   \n",
      "4421                   37.0  22.0                   37.0  27.0   \n",
      "4422                   37.0  22.0                   37.0  27.0   \n",
      "4423                   38.0  23.0                   37.0  27.0   \n",
      "\n",
      "     Mother's occupation       Father's occupation       Admission grade        \n",
      "                    self other                self other            self other  \n",
      "0                      5     6                   9    10           127.3   NaN  \n",
      "1                      3     4                   3     4           142.5   NaN  \n",
      "2                      9    10                   9    10           124.8   NaN  \n",
      "3                      5     6                   3     4           119.6   NaN  \n",
      "4                      9    10                   9    10           141.5   NaN  \n",
      "...                  ...   ...                 ...   ...             ...   ...  \n",
      "4419                   5     6                   4     5           122.2   NaN  \n",
      "4420                   9    10                   9    10           119.0   NaN  \n",
      "4421                   9    10                   9    10           149.5   NaN  \n",
      "4422                   7     8                   4     5           153.8   NaN  \n",
      "4423                   5     6                   9    10           152.0   NaN  \n",
      "\n",
      "[4424 rows x 22 columns]\n"
     ]
    }
   ],
   "source": [
    "print(\"Diferenças entre database1 e database4:\")\n",
    "print(diferencas_14)\n",
    "\n"
   ]
  },
  {
   "cell_type": "code",
   "execution_count": 7,
   "metadata": {},
   "outputs": [
    {
     "name": "stdout",
     "output_type": "stream",
     "text": [
      "Diferenças entre database2 e database3:\n",
      "     Application mode       Course       Daytime/evening attendance\\t        \\\n",
      "                 self other   self other                         self other   \n",
      "0                17.0   8.0    171     2                            1   NaN   \n",
      "1                15.0   6.0   9254    11                            1   NaN   \n",
      "2                 NaN   NaN   9070     5                            1   NaN   \n",
      "3                17.0   8.0   9773    15                            1   NaN   \n",
      "4                39.0  12.0   8014     3                            0   NaN   \n",
      "...               ...   ...    ...   ...                          ...   ...   \n",
      "4419              NaN   NaN   9773    15                            1   NaN   \n",
      "4420              NaN   NaN   9773    15                            1   NaN   \n",
      "4421              NaN   NaN   9500    12                            1   NaN   \n",
      "4422              NaN   NaN   9147     9                            1   NaN   \n",
      "4423             10.0   5.0   9773    15                            1   NaN   \n",
      "\n",
      "     Previous qualification       Previous qualification (grade)        ...  \\\n",
      "                       self other                           self other  ...   \n",
      "0                       NaN   NaN                          122.0   NaN  ...   \n",
      "1                       NaN   NaN                          160.0   NaN  ...   \n",
      "2                       NaN   NaN                          122.0   NaN  ...   \n",
      "3                       NaN   NaN                          122.0   NaN  ...   \n",
      "4                       NaN   NaN                          100.0   NaN  ...   \n",
      "...                     ...   ...                            ...   ...  ...   \n",
      "4419                    NaN   NaN                          125.0   NaN  ...   \n",
      "4420                    NaN   NaN                          120.0   NaN  ...   \n",
      "4421                    NaN   NaN                          154.0   NaN  ...   \n",
      "4422                    NaN   NaN                          180.0   NaN  ...   \n",
      "4423                    NaN   NaN                          152.0   NaN  ...   \n",
      "\n",
      "     Mother's qualification       Father's qualification        \\\n",
      "                       self other                   self other   \n",
      "0                      19.0  13.0                   12.0  10.0   \n",
      "1                       NaN   NaN                    NaN   NaN   \n",
      "2                      37.0  22.0                   37.0  27.0   \n",
      "3                      38.0  23.0                   37.0  27.0   \n",
      "4                      37.0  22.0                   38.0  28.0   \n",
      "...                     ...   ...                    ...   ...   \n",
      "4419                    NaN   NaN                    NaN   NaN   \n",
      "4420                    NaN   NaN                    NaN   NaN   \n",
      "4421                   37.0  22.0                   37.0  27.0   \n",
      "4422                   37.0  22.0                   37.0  27.0   \n",
      "4423                   38.0  23.0                   37.0  27.0   \n",
      "\n",
      "     Mother's occupation       Father's occupation       Admission grade        \n",
      "                    self other                self other            self other  \n",
      "0                      5     6                   9    10           127.3   NaN  \n",
      "1                      3     4                   3     4           142.5   NaN  \n",
      "2                      9    10                   9    10           124.8   NaN  \n",
      "3                      5     6                   3     4           119.6   NaN  \n",
      "4                      9    10                   9    10           141.5   NaN  \n",
      "...                  ...   ...                 ...   ...             ...   ...  \n",
      "4419                   5     6                   4     5           122.2   NaN  \n",
      "4420                   9    10                   9    10           119.0   NaN  \n",
      "4421                   9    10                   9    10           149.5   NaN  \n",
      "4422                   7     8                   4     5           153.8   NaN  \n",
      "4423                   5     6                   9    10           152.0   NaN  \n",
      "\n",
      "[4424 rows x 22 columns]\n"
     ]
    }
   ],
   "source": [
    "print(\"Diferenças entre database2 e database3:\")\n",
    "print(diferencas_23)\n"
   ]
  },
  {
   "cell_type": "code",
   "execution_count": 8,
   "metadata": {},
   "outputs": [
    {
     "name": "stdout",
     "output_type": "stream",
     "text": [
      "Diferenças entre database2 e database4:\n",
      "     Application mode       Course       Daytime/evening attendance\\t        \\\n",
      "                 self other   self other                         self other   \n",
      "0                17.0   8.0    171     2                            1   NaN   \n",
      "1                15.0   6.0   9254    11                            1   NaN   \n",
      "2                 NaN   NaN   9070     5                            1   NaN   \n",
      "3                17.0   8.0   9773    15                            1   NaN   \n",
      "4                39.0  12.0   8014     3                            0   NaN   \n",
      "...               ...   ...    ...   ...                          ...   ...   \n",
      "4419              NaN   NaN   9773    15                            1   NaN   \n",
      "4420              NaN   NaN   9773    15                            1   NaN   \n",
      "4421              NaN   NaN   9500    12                            1   NaN   \n",
      "4422              NaN   NaN   9147     9                            1   NaN   \n",
      "4423             10.0   5.0   9773    15                            1   NaN   \n",
      "\n",
      "     Previous qualification       Previous qualification (grade)        ...  \\\n",
      "                       self other                           self other  ...   \n",
      "0                       NaN   NaN                          122.0   NaN  ...   \n",
      "1                       NaN   NaN                          160.0   NaN  ...   \n",
      "2                       NaN   NaN                          122.0   NaN  ...   \n",
      "3                       NaN   NaN                          122.0   NaN  ...   \n",
      "4                       NaN   NaN                          100.0   NaN  ...   \n",
      "...                     ...   ...                            ...   ...  ...   \n",
      "4419                    NaN   NaN                          125.0   NaN  ...   \n",
      "4420                    NaN   NaN                          120.0   NaN  ...   \n",
      "4421                    NaN   NaN                          154.0   NaN  ...   \n",
      "4422                    NaN   NaN                          180.0   NaN  ...   \n",
      "4423                    NaN   NaN                          152.0   NaN  ...   \n",
      "\n",
      "     Mother's qualification       Father's qualification        \\\n",
      "                       self other                   self other   \n",
      "0                      19.0  13.0                   12.0  10.0   \n",
      "1                       NaN   NaN                    NaN   NaN   \n",
      "2                      37.0  22.0                   37.0  27.0   \n",
      "3                      38.0  23.0                   37.0  27.0   \n",
      "4                      37.0  22.0                   38.0  28.0   \n",
      "...                     ...   ...                    ...   ...   \n",
      "4419                    NaN   NaN                    NaN   NaN   \n",
      "4420                    NaN   NaN                    NaN   NaN   \n",
      "4421                   37.0  22.0                   37.0  27.0   \n",
      "4422                   37.0  22.0                   37.0  27.0   \n",
      "4423                   38.0  23.0                   37.0  27.0   \n",
      "\n",
      "     Mother's occupation       Father's occupation       Admission grade        \n",
      "                    self other                self other            self other  \n",
      "0                      5     6                   9    10           127.3   NaN  \n",
      "1                      3     4                   3     4           142.5   NaN  \n",
      "2                      9    10                   9    10           124.8   NaN  \n",
      "3                      5     6                   3     4           119.6   NaN  \n",
      "4                      9    10                   9    10           141.5   NaN  \n",
      "...                  ...   ...                 ...   ...             ...   ...  \n",
      "4419                   5     6                   4     5           122.2   NaN  \n",
      "4420                   9    10                   9    10           119.0   NaN  \n",
      "4421                   9    10                   9    10           149.5   NaN  \n",
      "4422                   7     8                   4     5           153.8   NaN  \n",
      "4423                   5     6                   9    10           152.0   NaN  \n",
      "\n",
      "[4424 rows x 22 columns]\n"
     ]
    }
   ],
   "source": [
    "print(\"Diferenças entre database2 e database4:\")\n",
    "print(diferencas_24)\n"
   ]
  },
  {
   "cell_type": "code",
   "execution_count": 9,
   "metadata": {},
   "outputs": [
    {
     "name": "stdout",
     "output_type": "stream",
     "text": [
      "O conteúdo das bases de dados é igual? False\n"
     ]
    }
   ],
   "source": [
    "conteudo_igual = comparar_conteudo(dataset1, dataset3)\n",
    "print(f\"O conteúdo das bases de dados é igual? {conteudo_igual}\")\n"
   ]
  },
  {
   "cell_type": "code",
   "execution_count": null,
   "metadata": {},
   "outputs": [],
   "source": []
  }
 ],
 "metadata": {
  "kernelspec": {
   "display_name": "Python 3",
   "language": "python",
   "name": "python3"
  },
  "language_info": {
   "codemirror_mode": {
    "name": "ipython",
    "version": 3
   },
   "file_extension": ".py",
   "mimetype": "text/x-python",
   "name": "python",
   "nbconvert_exporter": "python",
   "pygments_lexer": "ipython3",
   "version": "3.11.9"
  }
 },
 "nbformat": 4,
 "nbformat_minor": 2
}
